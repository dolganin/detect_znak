{
 "cells": [
  {
   "cell_type": "markdown",
   "metadata": {},
   "source": [
    "# Calculate CER WER metrics OCR "
   ]
  },
  {
   "cell_type": "code",
   "execution_count": 25,
   "metadata": {},
   "outputs": [],
   "source": [
    "#!pip3 install evaluate\n",
    "#!pip3 install jiwer"
   ]
  },
  {
   "cell_type": "code",
   "execution_count": 68,
   "metadata": {},
   "outputs": [],
   "source": [
    "import os\n",
    "import sys\n",
    "import torch\n",
    "import warnings\n",
    "from matplotlib import pyplot as plt\n",
    "from datetime import datetime\n",
    "from evaluate import load\n",
    "import pandas as pd\n",
    "from tqdm.notebook import tqdm\n",
    "warnings.filterwarnings('ignore')\n",
    "\n",
    "# change this property\n",
    "NOMEROFF_NET_DIR = os.path.abspath('../../../../')\n",
    "sys.path.append(NOMEROFF_NET_DIR)\n",
    "\n",
    "from nomeroff_net import pipeline\n",
    "from nomeroff_net.tools.ocr_tools import decode_prediction"
   ]
  },
  {
   "cell_type": "code",
   "execution_count": 54,
   "metadata": {},
   "outputs": [],
   "source": [
    "model_id = \"ru\""
   ]
  },
  {
   "cell_type": "code",
   "execution_count": 55,
   "metadata": {},
   "outputs": [
    {
     "name": "stdout",
     "output_type": "stream",
     "text": [
      "Downloaded model path: /mnt/data/var/www/nomeroff-net/nomeroff_net/tools/../../data/./dataset/TextDetector/ru/autoriaNumberplateOcrRu-2021-09-01.zip\n"
     ]
    },
    {
     "name": "stderr",
     "output_type": "stream",
     "text": [
      "autoriaNumberplateOcrRu-2021-09-01.zip: 1.50GB [02:12, 11.3MB/s]                               \n"
     ]
    }
   ],
   "source": [
    "# auto download latest dataset\n",
    "from nomeroff_net.tools import modelhub\n",
    "\n",
    "# auto download latest dataset\n",
    "info = modelhub.download_dataset_for_model(model_id)\n",
    "PATH_TO_DATASET = info[\"dataset_path\"]\n",
    "\n",
    "# local path dataset\n",
    "#PATH_TO_DATASET = os.path.join(NOMEROFF_NET_DIR, \"./data/dataset/TextDetector/ocr_example\")"
   ]
  },
  {
   "cell_type": "code",
   "execution_count": 57,
   "metadata": {},
   "outputs": [
    {
     "data": {
      "text/plain": [
       "'/mnt/data/var/www/nomeroff-net/nomeroff_net/tools/../../data/./dataset/TextDetector/ru/autoriaNumberplateOcrRu-2021-09-01'"
      ]
     },
     "execution_count": 57,
     "metadata": {},
     "output_type": "execute_result"
    }
   ],
   "source": [
    "PATH_TO_DATASET"
   ]
  },
  {
   "cell_type": "code",
   "execution_count": 58,
   "metadata": {},
   "outputs": [],
   "source": [
    "number_plate_detection_and_reading = pipeline(\"number_plate_detection_and_reading\", \n",
    "                                              image_loader=\"opencv\")"
   ]
  },
  {
   "cell_type": "code",
   "execution_count": 59,
   "metadata": {},
   "outputs": [],
   "source": [
    "ocr = number_plate_detection_and_reading.number_plate_text_reading.detector.get_static_module(model_id)"
   ]
  },
  {
   "cell_type": "code",
   "execution_count": 60,
   "metadata": {},
   "outputs": [
    {
     "name": "stdout",
     "output_type": "stream",
     "text": [
      "GET ALPHABET\n",
      "Max plate length in \"val\": 9\n",
      "Max plate length in \"train\": 9\n",
      "Max plate length in \"test\": 9\n",
      "Letters train  {'K', 'C', 'A', '5', 'X', '6', 'T', 'O', 'B', '2', '8', 'Y', '7', '9', '0', '4', 'E', '1', 'H', 'M', 'P', '3'}\n",
      "Letters val  {'K', 'C', 'A', '5', 'X', '6', 'T', 'O', 'B', '2', '8', 'Y', '4', '9', '0', '7', 'E', '1', 'H', 'M', 'P', '3'}\n",
      "Letters test  {'K', 'C', 'A', '5', 'X', '6', 'B', 'O', 'T', '2', '8', 'Y', '4', '7', '0', '9', 'E', '1', 'H', 'M', 'P', '3'}\n",
      "Max plate length in train, test and val do match\n",
      "Letters in train, val and test do match\n",
      "Letters: 0 1 2 3 4 5 6 7 8 9 A B C E H K M O P T X Y\n",
      "START BUILD DATA\n"
     ]
    },
    {
     "name": "stderr",
     "output_type": "stream",
     "text": [
      "100%|██████████| 49382/49382 [13:20<00:00, 61.67it/s]  \n",
      "100%|██████████| 4893/4893 [01:56<00:00, 42.04it/s]\n",
      "100%|██████████| 2845/2845 [01:19<00:00, 35.73it/s]"
     ]
    },
    {
     "name": "stdout",
     "output_type": "stream",
     "text": [
      "DATA PREPARED\n"
     ]
    },
    {
     "name": "stderr",
     "output_type": "stream",
     "text": [
      "\n"
     ]
    }
   ],
   "source": [
    "model = ocr.prepare(PATH_TO_DATASET, use_aug=False, num_workers=1)"
   ]
  },
  {
   "cell_type": "code",
   "execution_count": 61,
   "metadata": {},
   "outputs": [
    {
     "data": {
      "text/plain": [
       "NPOcrNet(\n",
       "  (conv_nn): Sequential(\n",
       "    (0): Conv2d(3, 64, kernel_size=(7, 7), stride=(2, 2), padding=(3, 3), bias=False)\n",
       "    (1): BatchNorm2d(64, eps=1e-05, momentum=0.1, affine=True, track_running_stats=True)\n",
       "    (2): ReLU(inplace=True)\n",
       "    (3): MaxPool2d(kernel_size=3, stride=2, padding=1, dilation=1, ceil_mode=False)\n",
       "    (4): Sequential(\n",
       "      (0): BasicBlock(\n",
       "        (conv1): Conv2d(64, 64, kernel_size=(3, 3), stride=(1, 1), padding=(1, 1), bias=False)\n",
       "        (bn1): BatchNorm2d(64, eps=1e-05, momentum=0.1, affine=True, track_running_stats=True)\n",
       "        (relu): ReLU(inplace=True)\n",
       "        (conv2): Conv2d(64, 64, kernel_size=(3, 3), stride=(1, 1), padding=(1, 1), bias=False)\n",
       "        (bn2): BatchNorm2d(64, eps=1e-05, momentum=0.1, affine=True, track_running_stats=True)\n",
       "      )\n",
       "      (1): BasicBlock(\n",
       "        (conv1): Conv2d(64, 64, kernel_size=(3, 3), stride=(1, 1), padding=(1, 1), bias=False)\n",
       "        (bn1): BatchNorm2d(64, eps=1e-05, momentum=0.1, affine=True, track_running_stats=True)\n",
       "        (relu): ReLU(inplace=True)\n",
       "        (conv2): Conv2d(64, 64, kernel_size=(3, 3), stride=(1, 1), padding=(1, 1), bias=False)\n",
       "        (bn2): BatchNorm2d(64, eps=1e-05, momentum=0.1, affine=True, track_running_stats=True)\n",
       "      )\n",
       "    )\n",
       "    (5): Sequential(\n",
       "      (0): BasicBlock(\n",
       "        (conv1): Conv2d(64, 128, kernel_size=(3, 3), stride=(2, 2), padding=(1, 1), bias=False)\n",
       "        (bn1): BatchNorm2d(128, eps=1e-05, momentum=0.1, affine=True, track_running_stats=True)\n",
       "        (relu): ReLU(inplace=True)\n",
       "        (conv2): Conv2d(128, 128, kernel_size=(3, 3), stride=(1, 1), padding=(1, 1), bias=False)\n",
       "        (bn2): BatchNorm2d(128, eps=1e-05, momentum=0.1, affine=True, track_running_stats=True)\n",
       "        (downsample): Sequential(\n",
       "          (0): Conv2d(64, 128, kernel_size=(1, 1), stride=(2, 2), bias=False)\n",
       "          (1): BatchNorm2d(128, eps=1e-05, momentum=0.1, affine=True, track_running_stats=True)\n",
       "        )\n",
       "      )\n",
       "      (1): BasicBlock(\n",
       "        (conv1): Conv2d(128, 128, kernel_size=(3, 3), stride=(1, 1), padding=(1, 1), bias=False)\n",
       "        (bn1): BatchNorm2d(128, eps=1e-05, momentum=0.1, affine=True, track_running_stats=True)\n",
       "        (relu): ReLU(inplace=True)\n",
       "        (conv2): Conv2d(128, 128, kernel_size=(3, 3), stride=(1, 1), padding=(1, 1), bias=False)\n",
       "        (bn2): BatchNorm2d(128, eps=1e-05, momentum=0.1, affine=True, track_running_stats=True)\n",
       "      )\n",
       "    )\n",
       "    (6): Sequential(\n",
       "      (0): BasicBlock(\n",
       "        (conv1): Conv2d(128, 256, kernel_size=(3, 3), stride=(2, 2), padding=(1, 1), bias=False)\n",
       "        (bn1): BatchNorm2d(256, eps=1e-05, momentum=0.1, affine=True, track_running_stats=True)\n",
       "        (relu): ReLU(inplace=True)\n",
       "        (conv2): Conv2d(256, 256, kernel_size=(3, 3), stride=(1, 1), padding=(1, 1), bias=False)\n",
       "        (bn2): BatchNorm2d(256, eps=1e-05, momentum=0.1, affine=True, track_running_stats=True)\n",
       "        (downsample): Sequential(\n",
       "          (0): Conv2d(128, 256, kernel_size=(1, 1), stride=(2, 2), bias=False)\n",
       "          (1): BatchNorm2d(256, eps=1e-05, momentum=0.1, affine=True, track_running_stats=True)\n",
       "        )\n",
       "      )\n",
       "      (1): BasicBlock(\n",
       "        (conv1): Conv2d(256, 256, kernel_size=(3, 3), stride=(1, 1), padding=(1, 1), bias=False)\n",
       "        (bn1): BatchNorm2d(256, eps=1e-05, momentum=0.1, affine=True, track_running_stats=True)\n",
       "        (relu): ReLU(inplace=True)\n",
       "        (conv2): Conv2d(256, 256, kernel_size=(3, 3), stride=(1, 1), padding=(1, 1), bias=False)\n",
       "        (bn2): BatchNorm2d(256, eps=1e-05, momentum=0.1, affine=True, track_running_stats=True)\n",
       "      )\n",
       "    )\n",
       "  )\n",
       "  (linear1): Linear(in_features=1024, out_features=512, bias=True)\n",
       "  (recurrent_layer1): BlockRNN(\n",
       "    (rnn): LSTM(512, 32, batch_first=True, bidirectional=True)\n",
       "  )\n",
       "  (recurrent_layer2): BlockRNN(\n",
       "    (rnn): LSTM(32, 32, batch_first=True, bidirectional=True)\n",
       "  )\n",
       "  (linear2): Linear(in_features=64, out_features=23, bias=True)\n",
       ")"
      ]
     },
     "execution_count": 61,
     "metadata": {},
     "output_type": "execute_result"
    }
   ],
   "source": [
    "ocr.load()"
   ]
  },
  {
   "cell_type": "code",
   "execution_count": 71,
   "metadata": {},
   "outputs": [
    {
     "name": "stdout",
     "output_type": "stream",
     "text": [
      "\n",
      "[INFO] /mnt/data/var/www/nomeroff-net/nomeroff_net/tools/../../data/./dataset/TextDetector/ru/autoriaNumberplateOcrRu-2021-09-01/test/img/A926AA113.png\n",
      "Predicted: a926aa13 \t\t\t True: a926aa113\n",
      "\n",
      "[INFO] /mnt/data/var/www/nomeroff-net/nomeroff_net/tools/../../data/./dataset/TextDetector/ru/autoriaNumberplateOcrRu-2021-09-01/test/img/K707KP58_0.png\n",
      "Predicted: k707kp59 \t\t\t True: k707kp58\n",
      "\n",
      "[INFO] /mnt/data/var/www/nomeroff-net/nomeroff_net/tools/../../data/./dataset/TextDetector/ru/autoriaNumberplateOcrRu-2021-09-01/test/img/K417AE797.png\n",
      "Predicted: k417ae77 \t\t\t True: k417ae797\n",
      "\n",
      "[INFO] /mnt/data/var/www/nomeroff-net/nomeroff_net/tools/../../data/./dataset/TextDetector/ru/autoriaNumberplateOcrRu-2021-09-01/test/img/E499KP198.png\n",
      "Predicted: e6499kp198 \t\t\t True: e499kp198\n",
      "\n",
      "[INFO] /mnt/data/var/www/nomeroff-net/nomeroff_net/tools/../../data/./dataset/TextDetector/ru/autoriaNumberplateOcrRu-2021-09-01/test/img/X359KT16.png\n",
      "Predicted: x359kt16 \t\t\t True: x359kt163\n",
      "\n",
      "[INFO] /mnt/data/var/www/nomeroff-net/nomeroff_net/tools/../../data/./dataset/TextDetector/ru/autoriaNumberplateOcrRu-2021-09-01/test/img/H630XY68.png\n",
      "Predicted: h630xy58 \t\t\t True: h630xy68\n",
      "\n",
      "[INFO] /mnt/data/var/www/nomeroff-net/nomeroff_net/tools/../../data/./dataset/TextDetector/ru/autoriaNumberplateOcrRu-2021-09-01/test/img/Y145AA44.png\n",
      "Predicted: y145aa4 \t\t\t True: y145aa44\n",
      "\n",
      "[INFO] /mnt/data/var/www/nomeroff-net/nomeroff_net/tools/../../data/./dataset/TextDetector/ru/autoriaNumberplateOcrRu-2021-09-01/test/img/X100PE56.png\n",
      "Predicted: p085to102 \t\t\t True: b085to102\n",
      "\n",
      "[INFO] /mnt/data/var/www/nomeroff-net/nomeroff_net/tools/../../data/./dataset/TextDetector/ru/autoriaNumberplateOcrRu-2021-09-01/test/img/T970XO123.png\n",
      "Predicted: t970xo23 \t\t\t True: t970xo123\n",
      "\n",
      "[INFO] /mnt/data/var/www/nomeroff-net/nomeroff_net/tools/../../data/./dataset/TextDetector/ru/autoriaNumberplateOcrRu-2021-09-01/test/img/E329KO48.png\n",
      "Predicted: e329ko10 \t\t\t True: e329ko48\n",
      "\n",
      "[INFO] /mnt/data/var/www/nomeroff-net/nomeroff_net/tools/../../data/./dataset/TextDetector/ru/autoriaNumberplateOcrRu-2021-09-01/test/img/B185BP05.png\n",
      "Predicted: b185bp35 \t\t\t True: b185bp05\n",
      "Testing Accuracy:  0.9961335676625659 in 2845\n"
     ]
    },
    {
     "data": {
      "text/plain": [
       "0.9961335676625659"
      ]
     },
     "execution_count": 71,
     "metadata": {},
     "output_type": "execute_result"
    }
   ],
   "source": [
    "ocr.test_acc(verbose=True)"
   ]
  },
  {
   "cell_type": "code",
   "execution_count": 65,
   "metadata": {},
   "outputs": [
    {
     "data": {
      "application/vnd.jupyter.widget-view+json": {
       "model_id": "c8e184192e914bacb0ea6efea8311836",
       "version_major": 2,
       "version_minor": 0
      },
      "text/plain": [
       "process:   0%|          | 0/2845 [00:00<?, ?it/s]"
      ]
     },
     "metadata": {},
     "output_type": "display_data"
    }
   ],
   "source": [
    "dataset = ocr.dm.test_image_generator\n",
    "predictions = []\n",
    "references = []\n",
    "for idx in tqdm(range(len(dataset)), total=len(dataset), desc=\"process\"):\n",
    "    img, text = dataset[idx]\n",
    "    img = img.unsqueeze(0)\n",
    "    logits = ocr.model(img)\n",
    "    pred_text = decode_prediction(logits.cpu(), ocr.label_converter)\n",
    "    references.append(text)\n",
    "    predictions.append(pred_text)"
   ]
  },
  {
   "cell_type": "code",
   "execution_count": 66,
   "metadata": {},
   "outputs": [],
   "source": [
    "cer_score = cer.compute(predictions=predictions, references=references)"
   ]
  },
  {
   "cell_type": "code",
   "execution_count": 67,
   "metadata": {},
   "outputs": [],
   "source": [
    "wer_score = wer.compute(predictions=predictions, references=references)"
   ]
  },
  {
   "cell_type": "code",
   "execution_count": 70,
   "metadata": {},
   "outputs": [
    {
     "data": {
      "text/html": [
       "<div>\n",
       "<style scoped>\n",
       "    .dataframe tbody tr th:only-of-type {\n",
       "        vertical-align: middle;\n",
       "    }\n",
       "\n",
       "    .dataframe tbody tr th {\n",
       "        vertical-align: top;\n",
       "    }\n",
       "\n",
       "    .dataframe thead th {\n",
       "        text-align: right;\n",
       "    }\n",
       "</style>\n",
       "<table border=\"1\" class=\"dataframe\">\n",
       "  <thead>\n",
       "    <tr style=\"text-align: right;\">\n",
       "      <th></th>\n",
       "      <th>model</th>\n",
       "      <th>CER</th>\n",
       "      <th>WER</th>\n",
       "    </tr>\n",
       "  </thead>\n",
       "  <tbody>\n",
       "    <tr>\n",
       "      <th>0</th>\n",
       "      <td>ru</td>\n",
       "      <td>0.000502</td>\n",
       "      <td>0.003866</td>\n",
       "    </tr>\n",
       "  </tbody>\n",
       "</table>\n",
       "</div>"
      ],
      "text/plain": [
       "  model       CER       WER\n",
       "0    ru  0.000502  0.003866"
      ]
     },
     "execution_count": 70,
     "metadata": {},
     "output_type": "execute_result"
    }
   ],
   "source": [
    "pd.DataFrame([{\"model\": model_id, \"CER\": cer_score, \"WER\": wer_score}])"
   ]
  },
  {
   "cell_type": "code",
   "execution_count": null,
   "metadata": {},
   "outputs": [],
   "source": []
  }
 ],
 "metadata": {
  "kernelspec": {
   "display_name": "Python 3",
   "language": "python",
   "name": "python3"
  }
 },
 "nbformat": 4,
 "nbformat_minor": 2
}

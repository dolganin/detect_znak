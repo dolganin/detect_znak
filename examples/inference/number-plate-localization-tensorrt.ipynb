{
 "cells": [
  {
   "cell_type": "markdown",
   "id": "d2d97d70",
   "metadata": {},
   "source": [
    "## firstly you must convert model by your system\n",
    "dockerfile docker/tensorrt/Dockerfile_convert_yolov8\n",
    "\n",
    "convertors:\n",
    "* yolov8 (inference/model_convertors/convert_yolo_v8_to_tensorrt.py)"
   ]
  },
  {
   "cell_type": "code",
   "execution_count": 1,
   "id": "d5a8cd5e",
   "metadata": {},
   "outputs": [],
   "source": [
    "import os\n",
    "os.environ[\"CUDA_VISIBLE_DEVICES\"] = \"3\"\n",
    "os.environ[\"CUDA_DEVICE_ORDER\"] = \"PCI_BUS_ID\""
   ]
  },
  {
   "cell_type": "code",
   "execution_count": 2,
   "id": "3703d298",
   "metadata": {},
   "outputs": [],
   "source": [
    "import sys"
   ]
  },
  {
   "cell_type": "code",
   "execution_count": 3,
   "id": "1a16b01a",
   "metadata": {},
   "outputs": [],
   "source": [
    "current_dir = os.getcwd()\n",
    "nomeroff_net_dir = os.path.join(current_dir, \"../../../\")\n",
    "sys.path.append(nomeroff_net_dir)"
   ]
  },
  {
   "cell_type": "code",
   "execution_count": 4,
   "id": "5048ab69",
   "metadata": {},
   "outputs": [
    {
     "name": "stderr",
     "output_type": "stream",
     "text": [
      "/opt/conda/lib/python3.8/site-packages/requests/__init__.py:102: RequestsDependencyWarning: urllib3 (1.26.15) or chardet (5.1.0)/charset_normalizer (2.0.8) doesn't match a supported version!\n",
      "  warnings.warn(\"urllib3 ({}) or chardet ({})/charset_normalizer ({}) doesn't match a supported \"\n"
     ]
    }
   ],
   "source": [
    "import matplotlib.pyplot as plt\n",
    "from glob import glob\n",
    "import pycuda.autoinit\n",
    "\n",
    "from nomeroff_net.tools import unzip\n",
    "from nomeroff_net.pipelines.number_plate_localization_trt import NumberPlateLocalizationTrt"
   ]
  },
  {
   "cell_type": "code",
   "execution_count": 5,
   "id": "7b998d11",
   "metadata": {},
   "outputs": [],
   "source": [
    "from nomeroff_net.tools.mcm import get_device_name"
   ]
  },
  {
   "cell_type": "code",
   "execution_count": 6,
   "id": "bee62258",
   "metadata": {},
   "outputs": [
    {
     "name": "stdout",
     "output_type": "stream",
     "text": [
      "NVIDIA RTX A6000\n"
     ]
    }
   ],
   "source": [
    "device_name = get_device_name()\n",
    "print(device_name)"
   ]
  },
  {
   "cell_type": "code",
   "execution_count": 7,
   "id": "0f809902",
   "metadata": {},
   "outputs": [
    {
     "name": "stderr",
     "output_type": "stream",
     "text": [
      "WARNING ⚠️ Unable to automatically guess model task, assuming 'task=detect'. Explicitly define task for your model, i.e. 'task=detect', 'task=segment' or 'task=classify'.\n"
     ]
    }
   ],
   "source": [
    "number_plate_localization = NumberPlateLocalizationTrt(\n",
    "            \"number_plate_localization\",\n",
    "            image_loader=None,\n",
    "            engine_file_path=os.path.join(nomeroff_net_dir,\n",
    "                \"./data/models/Detector/yolov8_brand_np/yolov8s_np_brand-2023-03-30_nvidia-rtx-a6000.engine\"))"
   ]
  },
  {
   "cell_type": "code",
   "execution_count": 8,
   "id": "7a14106b",
   "metadata": {},
   "outputs": [
    {
     "name": "stderr",
     "output_type": "stream",
     "text": [
      "Loading /var/www/nomeroff-net/examples/ju/inference/../../../data/models/Detector/yolov8_brand_np/yolov8s_np_brand-2023-03-30_nvidia-rtx-a6000.engine for TensorRT inference...\n"
     ]
    },
    {
     "name": "stdout",
     "output_type": "stream",
     "text": [
      "[04/04/2023-23:13:02] [TRT] [I] [MemUsageChange] Init CUDA: CPU +451, GPU +0, now: CPU 591, GPU 15189 (MiB)\n",
      "[04/04/2023-23:13:02] [TRT] [I] Loaded engine size: 25 MiB\n",
      "[04/04/2023-23:13:07] [TRT] [W] TensorRT was linked against cuBLAS/cuBLAS LT 11.6.3 but loaded cuBLAS/cuBLAS LT 111.0.3\n",
      "[04/04/2023-23:13:07] [TRT] [I] [MemUsageChange] Init cuBLAS/cuBLASLt: CPU +841, GPU +386, now: CPU 1466, GPU 15599 (MiB)\n",
      "[04/04/2023-23:13:08] [TRT] [I] [MemUsageChange] Init cuDNN: CPU +129, GPU +84, now: CPU 1595, GPU 15683 (MiB)\n",
      "[04/04/2023-23:13:08] [TRT] [I] [MemUsageChange] TensorRT-managed allocation in engine deserialization: CPU +0, GPU +22, now: CPU 0, GPU 22 (MiB)\n",
      "[04/04/2023-23:13:08] [TRT] [W] TensorRT was linked against cuBLAS/cuBLAS LT 11.6.3 but loaded cuBLAS/cuBLAS LT 111.0.3\n",
      "[04/04/2023-23:13:08] [TRT] [I] [MemUsageChange] Init cuBLAS/cuBLASLt: CPU +0, GPU +34, now: CPU 1569, GPU 15651 (MiB)\n",
      "[04/04/2023-23:13:08] [TRT] [I] [MemUsageChange] Init cuDNN: CPU +0, GPU +32, now: CPU 1569, GPU 15683 (MiB)\n",
      "[04/04/2023-23:13:08] [TRT] [I] [MemUsageChange] TensorRT-managed allocation in IExecutionContext creation: CPU +0, GPU +39, now: CPU 0, GPU 61 (MiB)\n"
     ]
    }
   ],
   "source": [
    "result = number_plate_localization(glob(os.path.join(nomeroff_net_dir,\n",
    "                                                                  './data/examples/oneline_images/*')))"
   ]
  },
  {
   "cell_type": "code",
   "execution_count": null,
   "id": "fdf45964",
   "metadata": {},
   "outputs": [],
   "source": []
  }
 ],
 "metadata": {
  "kernelspec": {
   "display_name": "Python 3 (ipykernel)",
   "language": "python",
   "name": "python3"
  },
  "language_info": {
   "codemirror_mode": {
    "name": "ipython",
    "version": 3
   },
   "file_extension": ".py",
   "mimetype": "text/x-python",
   "name": "python",
   "nbconvert_exporter": "python",
   "pygments_lexer": "ipython3",
   "version": "3.8.12"
  }
 },
 "nbformat": 4,
 "nbformat_minor": 5
}
